{
 "cells": [
  {
   "cell_type": "markdown",
   "metadata": {
    "id": "QbsLH3-RJSk5"
   },
   "source": [
    "------------------\n",
    "```markdown\n",
    "# Copyright © 2024 Meysam Goodarzi\n",
    "This notebook is licensed under CC BY-NC 4.0 with the following amandments:\n",
    "- Individuals may use, share, and adapt this material for non-commercial purposes with attribution.\n",
    "- Institutions/Companies must obtain written consent to use this material, except for nonprofits.\n",
    "- Commercial use is prohibited without permission.  \n",
    "Contact: analytica@meysam-goodarzi.com\n",
    "```\n",
    "------------------------------\n",
    "❗❗❗ **IMPORTANT**❗❗❗ **Create a copy of this notebook**\n",
    "\n",
    "In order to work with this Google Colab you need to create a copy of it. Please **DO NOT** provide your answers here. Instead, work on the copy version. To make a copy:\n",
    "\n",
    "**Click on: File -> save a copy in drive**\n",
    "\n",
    "Have you successfully created the copy? if yes, there must be a new tab opened in your browser. Now move to the copy and start from there!\n",
    "\n",
    "----------------------------------------------\n"
   ]
  },
  {
   "cell_type": "markdown",
   "metadata": {
    "id": "Cb8D7AVOm1YM"
   },
   "source": [
    "# Introduction to Computing"
   ]
  },
  {
   "cell_type": "markdown",
   "metadata": {
    "id": "KJ7KmO9AL4uf"
   },
   "source": [
    "## Logical and Comparison Operators\n",
    "Logical operations in Python are used to compare values and determine the relationship between them. They return Boolean values, `True` or `False`. Similarly, comparison operators are used to compare two values. They also return a Boolean value, `True` or `False`. Let us delve more into these operators."
   ]
  },
  {
   "cell_type": "markdown",
   "metadata": {
    "id": "V0nJ21mHZMyP"
   },
   "source": [
    "### Logical Operators\n",
    "+ `and`: Returns True if both operands are True.\n",
    "+ `or`: Returns True if at least one operand is True.\n",
    "+ `not`: Reverses the Boolean value of the operand."
   ]
  },
  {
   "cell_type": "code",
   "execution_count": 2,
   "metadata": {
    "colab": {
     "base_uri": "https://localhost:8080/"
    },
    "executionInfo": {
     "elapsed": 4,
     "status": "ok",
     "timestamp": 1736771036537,
     "user": {
      "displayName": "Meysam Goodarzi",
      "userId": "02222694096603232965"
     },
     "user_tz": -60
    },
    "id": "PGPleoV8Bq0-",
    "outputId": "22c820dc-e5c4-4764-fb34-afa1ab0246d0"
   },
   "outputs": [
    {
     "name": "stdout",
     "output_type": "stream",
     "text": [
      "a AND b: False\n",
      "a OR b: True\n",
      "NOT a: False\n"
     ]
    }
   ],
   "source": [
    "a = True\n",
    "b = False\n",
    "\n",
    "# Logical AND\n",
    "print(\"a AND b:\", a and b)  # Both must be True\n",
    "\n",
    "# Logical OR\n",
    "print(\"a OR b:\", a or b)  # At least one must be True\n",
    "\n",
    "# Logical NOT\n",
    "print(\"NOT a:\", not a)  # Reverses the value of a"
   ]
  },
  {
   "cell_type": "markdown",
   "metadata": {
    "id": "JuMoLyjQMXTy"
   },
   "source": [
    "### Comparison Operators\n",
    "1. **Equal to** `==`: Checks if the values of two operands are equal.\n",
    "2. **Not equal to** `!=`: Checks if the values of two operands are not equal.\n",
    "3. **Greater than** `>`: Checks if the value of the left operand is greater than the value of the right operand.\n",
    "4. **Less than** `<`: Checks if the value of the left operand is less than the value of the right operand.\n",
    "5. **Greater than or equal to** `>=`: Checks if the value of the left operand is greater than or equal to the value of the right operand.\n",
    "6. **Less than or equal to** `<=`: Checks if the value of the left operand is less than or equal to the value of the right operand."
   ]
  },
  {
   "cell_type": "code",
   "execution_count": 3,
   "metadata": {
    "id": "CYLuUdzLOwCH"
   },
   "outputs": [
    {
     "name": "stdout",
     "output_type": "stream",
     "text": [
      "x == y: False\n",
      "x != y: True\n",
      "x > y: True\n",
      "x < y: False\n",
      "x >= y: True\n",
      "x <= y: False\n"
     ]
    }
   ],
   "source": [
    "# Comparison operators\n",
    "x = 10\n",
    "y = 5\n",
    "\n",
    "print(\"x == y:\", x == y)\n",
    "print(\"x != y:\", x != y)\n",
    "print(\"x > y:\", x > y)\n",
    "print(\"x < y:\", x < y)\n",
    "print(\"x >= y:\", x >= y)\n",
    "print(\"x <= y:\", x <= y)"
   ]
  },
  {
   "cell_type": "markdown",
   "metadata": {
    "id": "LZ9LvnPCDtvm"
   },
   "source": [
    "There are two more operators which are equally important:\n",
    "\n",
    "7. `is` Operator: `is` keyword is used to test if two variables refer to the same object. The test returns `True` if the two objects are the same object. The test returns False if they are not the same object, even if the two objects are 100% equal.\n",
    "8. `in` operator: `in` keyword is used to check if a value exists in a sequence like a list, tuple, or string\n",
    "\n",
    "We will cover them later."
   ]
  },
  {
   "cell_type": "markdown",
   "metadata": {
    "id": "jajJWLmKTP0E"
   },
   "source": [
    "### Combining Logical and Comparison Operators\n",
    "Logical and comparison operators can be combined to create complex conditions."
   ]
  },
  {
   "cell_type": "markdown",
   "metadata": {
    "id": "kfl0kQJJoGWV"
   },
   "source": [
    "#### Example\n",
    "Consider a case where the entry to a place requires the person to be an adult and have the official permission. How would we implement that logic?"
   ]
  },
  {
   "cell_type": "code",
   "execution_count": 4,
   "metadata": {
    "id": "3vdw8ikxTZR3"
   },
   "outputs": [
    {
     "name": "stdout",
     "output_type": "stream",
     "text": [
      "Can enter: True\n"
     ]
    }
   ],
   "source": [
    "# Combining logical and comparison operators\n",
    "age = 20\n",
    "is_adult = (age >= 18)\n",
    "has_permission = True\n",
    "\n",
    "can_enter = is_adult and has_permission\n",
    "print(\"Can enter:\", can_enter)"
   ]
  },
  {
   "cell_type": "markdown",
   "metadata": {
    "id": "pqc4rrMzT2Jl"
   },
   "source": [
    "### Precedence\n",
    "\n",
    "The precedence (or order of operations) determines the order in which these operations are performed. Understanding this precedence is important to ensure that expressions are evaluated as intended. Generally, comparison operators have higher precedence than logical operators. This means that comparisons are evaluated before logical operations. The precedence of logical operators is as follows: `not` has the highest precedence, followed by `and`, and then `or` has the lowest precedence.\n",
    "\n",
    "**IMPORTANT remark**: **ALWAYS** use paranthesis to determine the precedence manually and avoid confusion.\n"
   ]
  },
  {
   "cell_type": "markdown",
   "metadata": {
    "id": "d4ydGjOyIXO1"
   },
   "source": [
    "**Question**: Consider the expression `a > b or a < c and c > b`. What would be the sequence of actions conducted by Python?\n",
    "\n",
    "<!--\n",
    "# Copyright © 2024 Meysam Goodarzi\n",
    "This notebook is licensed under CC BY-NC 4.0 with the following amandments:\n",
    "- Individuals may use, share, and adapt this material for non-commercial purposes with attribution.\n",
    "- Institutions/Companies must obtain written consent to use this material, except for nonprofits.\n",
    "- Commercial use is prohibited without permission.  \n",
    "Contact: analytica@meysam-goodarzi.com.\n",
    "-->"
   ]
  },
  {
   "cell_type": "markdown",
   "metadata": {
    "id": "GGO6v_RJXmw5"
   },
   "source": [
    "### Exercise 1\n",
    "Let's consider a scenario where we're evaluating conditions for an online discount based on multiple factors, i.e.,\n",
    "+ Membership status,\n",
    "+ The amount of spent money\n",
    "+ Whether it's a holiday\n",
    "\n",
    "write a line of code to implement the results for *eligibility*. To be eligible, **at least one of the following conditions** must be met:\n",
    "1. being a member and have spent more than 100€\n",
    "2. not a holiday time and have spent more than 200 €\n",
    "\n",
    "**Hint**:\n",
    "\n",
    "Table 1:\n",
    "\n",
    "is member | amount_spent > 100 | is_member \\& amount_spent > 100\n",
    " :- | -: | :-:\n",
    "  True | True | True\n",
    "  True | False | False\n",
    "  False | True | False\n",
    "  False | False | False\n",
    "\n",
    "Table 2:\n",
    "\n",
    "is holiday | amount_spent > 200 | not is_holiday \\& amount_spent > 200\n",
    ":-: | :-: | :-:\n",
    "True | True | False\n",
    "True | False | False\n",
    "False | True | True\n",
    "False| False| False\n",
    "\n",
    "Table 3:\n",
    "\n",
    "is_member \\& amount_spent > 100 | not is_holiday \\& amount_spent > 200 | eligibility\n",
    ":-: |  :-: | :-:\n",
    "True |  False | True\n",
    "False |  False | False\n",
    "False |  True | True\n",
    "False |  False | False\n"
   ]
  },
  {
   "cell_type": "code",
   "execution_count": 9,
   "metadata": {
    "id": "Xx60eOChUeyM"
   },
   "outputs": [
    {
     "name": "stdout",
     "output_type": "stream",
     "text": [
      "Eligibility of the person: False\n"
     ]
    }
   ],
   "source": [
    "is_member = False\n",
    "amount_spent = 150\n",
    "is_holiday = False\n",
    "\n",
    "eligibility = (is_member and amount_spent > 100) or (is_holiday == False and amount_spent > 200)\n",
    "print(\"Eligibility of the person:\", eligibility)"
   ]
  },
  {
   "cell_type": "markdown",
   "metadata": {
    "id": "Bt3OYng0aw5v"
   },
   "source": [
    "## Variables and Datatypes\n",
    "This section is dedicated to the introduction to variables and datatypes in python. In what follows, you will learn what variables and datatypes are, why are they important, and what are their various functionalities."
   ]
  },
  {
   "cell_type": "markdown",
   "metadata": {
    "id": "laBYDvMZyueB"
   },
   "source": [
    "### Variables\n",
    "The first natural question that comes to one's mind is: *what are variables?*\n",
    "Variables are containers for storing data values. Python is dynamically typed, meaning you don't need to declare a type for a variable, i.e., **the type is inferred from the value you assign**. But what is a datatype? be patients, we will see in a minute."
   ]
  },
  {
   "cell_type": "markdown",
   "metadata": {
    "id": "BaBzybI7YLU2"
   },
   "source": [
    "#### Example\n",
    "Let us define three different variables as follows."
   ]
  },
  {
   "cell_type": "code",
   "execution_count": 10,
   "metadata": {
    "id": "B3EovghqzLvt"
   },
   "outputs": [
    {
     "name": "stdout",
     "output_type": "stream",
     "text": [
      "10\n",
      "Hello, World!\n",
      "3.14\n"
     ]
    }
   ],
   "source": [
    "# Variable assignment\n",
    "my_variable_1 = 10\n",
    "my_variable_2 = \"Hello, World!\"\n",
    "my_variable_3 = 3.14\n",
    "\n",
    "print(my_variable_1)\n",
    "print(my_variable_2)\n",
    "print(my_variable_3)"
   ]
  },
  {
   "cell_type": "markdown",
   "metadata": {
    "id": "dBHWn0lgbwlP"
   },
   "source": [
    "Do you understand the above-written lines? What was done there? why the variables are named as you see in the code?"
   ]
  },
  {
   "cell_type": "markdown",
   "metadata": {
    "id": "zKdw-mKhapy9"
   },
   "source": [
    "### Rules for Naming Variables\n",
    "There are certain rules that must be followed when naming the variables. They are:\n",
    "\n",
    "* Variable names must start with a letter or the underscore character.\n",
    "* Variable names cannot start with a number.\n",
    "* Variable names are case-sensitive (e.g., age, Age, and AGE are different variables).\n",
    "* Variable names should not be Python reserved keywords (like if, else, for, etc.)."
   ]
  },
  {
   "cell_type": "markdown",
   "metadata": {
    "id": "aekq5rricQrI"
   },
   "source": [
    "**Question**: Which one of the following variable assignments are incorrect?\n",
    "```python\n",
    "my_var = 5\n",
    "_my_var = 10\n",
    "2my_var = 5\n",
    "myVar = 15\n",
    "try = 20\n",
    "my-var = 10\n",
    "```"
   ]
  },
  {
   "cell_type": "markdown",
   "metadata": {
    "id": "KG3Z3XVYz5hB"
   },
   "source": [
    "### Data Types\n",
    "In Python (and in all programming languages) it's very important to keep in mind what data types you're using. Python has several built-in data types that are used to represent different kinds of data. The most common ones are:\n",
    "+ Integers (`int`)\n",
    "+ Floating-point numbers (`float`)\n",
    "+ Strings (`str`)\n",
    "+ Booleans (`bool`)\n",
    "+ Lists (`list`)\n",
    "+ Dictionaries (`dict`)\n",
    "+ Tuples (`tuple`)\n",
    "+ Sets (`set`)\n",
    "\n",
    "In what follows, we conceptually cover some of the above mentioned datatypes.\n",
    "\n"
   ]
  },
  {
   "cell_type": "markdown",
   "metadata": {
    "id": "LdRw7tUpTnIv"
   },
   "source": [
    "#### Integer\n",
    "\n",
    "Integers are whole numbers without a decimal point. They can be generally positive or negative and there no limit on length. Python allows you to perform all basic arithmetic operations with integers"
   ]
  },
  {
   "cell_type": "code",
   "execution_count": null,
   "metadata": {
    "id": "JBXbYRi0ySO0"
   },
   "outputs": [],
   "source": [
    "# Integer operations\n",
    "x = 10\n",
    "y = 3\n",
    "\n",
    "addition = x + y\n",
    "subtraction = x - y\n",
    "multiplication = x * y\n",
    "\n",
    "print(\"Addition:\", addition)\n",
    "print(\"Subtraction:\", subtraction)\n",
    "print(\"Multiplication:\", multiplication)"
   ]
  },
  {
   "cell_type": "markdown",
   "metadata": {
    "id": "53dT3tXqUFRJ"
   },
   "source": [
    "**Question**: What is the result of a division $\\frac{x}{y}$ if both $x$ and $y$ are integers? Try it out below."
   ]
  },
  {
   "cell_type": "code",
   "execution_count": 11,
   "metadata": {
    "id": "kB0dhQnuUdYS"
   },
   "outputs": [
    {
     "data": {
      "text/plain": [
       "0.3333333333333333"
      ]
     },
     "execution_count": 11,
     "metadata": {},
     "output_type": "execute_result"
    }
   ],
   "source": [
    "1/3"
   ]
  },
  {
   "cell_type": "markdown",
   "metadata": {
    "id": "eDXWpO1HUkgz"
   },
   "source": [
    "**Question**: How can we force the result of above code to be an integer?"
   ]
  },
  {
   "cell_type": "code",
   "execution_count": 12,
   "metadata": {
    "id": "sR2jVmfvHzAL"
   },
   "outputs": [
    {
     "data": {
      "text/plain": [
       "0"
      ]
     },
     "execution_count": 12,
     "metadata": {},
     "output_type": "execute_result"
    }
   ],
   "source": [
    "int(1/3)"
   ]
  },
  {
   "cell_type": "markdown",
   "metadata": {
    "id": "dDaxOloI76Pr"
   },
   "source": [
    "#### Float\n",
    "Floats represent numbers with a decimal point. Python automatically converts integers to floats when you mix them in operations. Similar to integers arithmetic operations with floats are supported in Python.\n",
    "\n",
    "Let us explore some of the properties of the `float` datatype.\n",
    "\n"
   ]
  },
  {
   "cell_type": "code",
   "execution_count": 13,
   "metadata": {
    "id": "sCVHrMGj8IOE"
   },
   "outputs": [
    {
     "name": "stdout",
     "output_type": "stream",
     "text": [
      "3.14\n",
      "<class 'float'>\n"
     ]
    }
   ],
   "source": [
    "a = 3.14\n",
    "print(a)\n",
    "print(type(a))"
   ]
  },
  {
   "cell_type": "markdown",
   "metadata": {
    "id": "yGr77jLg8f7H"
   },
   "source": [
    "  - can be used for very small numbers\n"
   ]
  },
  {
   "cell_type": "code",
   "execution_count": 14,
   "metadata": {
    "colab": {
     "base_uri": "https://localhost:8080/"
    },
    "executionInfo": {
     "elapsed": 340,
     "status": "ok",
     "timestamp": 1739463504225,
     "user": {
      "displayName": "Meysam Goodarzi",
      "userId": "02222694096603232965"
     },
     "user_tz": -60
    },
    "id": "L_HAjMVx8llu",
    "outputId": "48f361ab-6d20-460c-f290-69e4fcd829c0"
   },
   "outputs": [
    {
     "name": "stdout",
     "output_type": "stream",
     "text": [
      "4.5e-33\n"
     ]
    }
   ],
   "source": [
    "a = 0.0000000000000000000000000000000045\n",
    "print(a)"
   ]
  },
  {
   "cell_type": "markdown",
   "metadata": {
    "id": "8C-nQCwM8yvg"
   },
   "source": [
    "\n",
    "  - can be used for scientific notation (2.5e2)\n",
    "\n"
   ]
  },
  {
   "cell_type": "code",
   "execution_count": 15,
   "metadata": {
    "id": "kfP6mIpF896s"
   },
   "outputs": [
    {
     "name": "stdout",
     "output_type": "stream",
     "text": [
      "250.0\n"
     ]
    }
   ],
   "source": [
    "a = 2.5e2\n",
    "print(a)"
   ]
  },
  {
   "cell_type": "markdown",
   "metadata": {
    "id": "DwH6Gvvm9LlM"
   },
   "source": [
    "  - if we create a big number like \"2.5e256\" \"print\" function will print it in scientific notation\n"
   ]
  },
  {
   "cell_type": "code",
   "execution_count": 16,
   "metadata": {
    "id": "aPwtxI6Y9NF2"
   },
   "outputs": [
    {
     "name": "stdout",
     "output_type": "stream",
     "text": [
      "2.5e+256\n"
     ]
    }
   ],
   "source": [
    "a = 2.5e256\n",
    "print(a)"
   ]
  },
  {
   "cell_type": "markdown",
   "metadata": {
    "id": "rjS-zyXb-6Vb"
   },
   "source": [
    " - can be used for arithmatic with ints or resulting from ints (e.g. `1 / 3`)\n"
   ]
  },
  {
   "cell_type": "code",
   "execution_count": 19,
   "metadata": {
    "colab": {
     "base_uri": "https://localhost:8080/",
     "height": 54
    },
    "executionInfo": {
     "elapsed": 433,
     "status": "ok",
     "timestamp": 1739463745950,
     "user": {
      "displayName": "Meysam Goodarzi",
      "userId": "02222694096603232965"
     },
     "user_tz": -60
    },
    "id": "RXssJAnF-81n",
    "outputId": "52aaf08e-5e58-45a8-a9db-83c37f979c61"
   },
   "outputs": [
    {
     "name": "stdout",
     "output_type": "stream",
     "text": [
      "0.3333333333333333\n"
     ]
    },
    {
     "data": {
      "text/plain": [
       "'0x1.5555555555555p-2'"
      ]
     },
     "execution_count": 19,
     "metadata": {},
     "output_type": "execute_result"
    }
   ],
   "source": [
    "a = 1 / 3\n",
    "print(a)\n",
    "a.hex()"
   ]
  },
  {
   "cell_type": "markdown",
   "metadata": {
    "id": "P8wp4Hq1_Cxn"
   },
   "source": [
    "- dividing will **always** result in a float value"
   ]
  },
  {
   "cell_type": "code",
   "execution_count": 20,
   "metadata": {
    "id": "QTI8sHkK_Hqd"
   },
   "outputs": [
    {
     "name": "stdout",
     "output_type": "stream",
     "text": [
      "4.0\n",
      "<class 'float'>\n"
     ]
    }
   ],
   "source": [
    "a = 4/1\n",
    "print(a)\n",
    "print(type(a))"
   ]
  },
  {
   "cell_type": "markdown",
   "metadata": {
    "id": "-TXec_I8_PPx"
   },
   "source": [
    "  - floats are inherently inaccurate (never mind the complex syntax, just look what happens when we expand a simple float value to 30 decimal places) 🙀"
   ]
  },
  {
   "cell_type": "code",
   "execution_count": 21,
   "metadata": {
    "colab": {
     "base_uri": "https://localhost:8080/"
    },
    "executionInfo": {
     "elapsed": 572,
     "status": "ok",
     "timestamp": 1739463869805,
     "user": {
      "displayName": "Meysam Goodarzi",
      "userId": "02222694096603232965"
     },
     "user_tz": -60
    },
    "id": "hZNu8Yn7_SY0",
    "outputId": "3cfac933-fa6c-48d4-a151-7ccc4560d0f8"
   },
   "outputs": [
    {
     "name": "stdout",
     "output_type": "stream",
     "text": [
      "1.199999999999999955591079014994\n"
     ]
    }
   ],
   "source": [
    "my_float_number = 1.2\n",
    "print(f\"{my_float_number:.30f}\")"
   ]
  },
  {
   "cell_type": "markdown",
   "metadata": {
    "id": "WcgZsCnH_ykY"
   },
   "source": [
    "That is why we avoid using float for certain sensitive scenarios.\n",
    "\n",
    "**BUT** for most math, floats are \"good enough\".\n",
    "\n",
    "We already saw addition and division but here's a couple of other operators:"
   ]
  },
  {
   "cell_type": "code",
   "execution_count": 23,
   "metadata": {
    "id": "E9pB8wczuD3a"
   },
   "outputs": [
    {
     "name": "stdout",
     "output_type": "stream",
     "text": [
      "15.0\n",
      "<class 'float'>\n",
      "1\n",
      "<class 'int'>\n",
      "81\n",
      "<class 'int'>\n"
     ]
    }
   ],
   "source": [
    "# multiplication\n",
    "a = 1.5\n",
    "b = 10\n",
    "multiply = a*b\n",
    "print(multiply)\n",
    "print(type(multiply))\n",
    "\n",
    "# remainder\n",
    "a = 10\n",
    "b = 3\n",
    "remainder = 10 % 3\n",
    "print(remainder)\n",
    "print(type(remainder))\n",
    "\n",
    "# exponents (power of)\n",
    "a = 3\n",
    "b = 4\n",
    "exponent = 3 ** 4\n",
    "print(exponent)\n",
    "print(type(exponent))"
   ]
  },
  {
   "cell_type": "markdown",
   "metadata": {
    "id": "UVjgnvKFB0rT"
   },
   "source": [
    "#### String\n",
    "Strings are sequences of characters enclosed in quotes (' or \").\n",
    "You can perform various operations and methods on strings, such as concatenation, slicing, and formatting. Here are some examples:"
   ]
  },
  {
   "cell_type": "code",
   "execution_count": 24,
   "metadata": {
    "colab": {
     "base_uri": "https://localhost:8080/"
    },
    "executionInfo": {
     "elapsed": 515,
     "status": "ok",
     "timestamp": 1739810831632,
     "user": {
      "displayName": "Meysam Goodarzi",
      "userId": "02222694096603232965"
     },
     "user_tz": -60
    },
    "id": "UFt_C0PECl72",
    "outputId": "bb3967cc-d67e-4685-a650-02236cdec434"
   },
   "outputs": [
    {
     "name": "stdout",
     "output_type": "stream",
     "text": [
      "I'm a string\n",
      "I could also be considered a \"string\"\n",
      "I'm also a string.\n"
     ]
    }
   ],
   "source": [
    "print(\"I'm a string\")\n",
    "print('I could also be considered a \"string\"')\n",
    "print('I\\'m also a string.')"
   ]
  },
  {
   "cell_type": "markdown",
   "metadata": {
    "id": "IBzMVx9qC1iW"
   },
   "source": [
    "Note that the last string above uses the `\\` character to allow a single quote symbol to exist within a string enclosed by single-quotes. The `\\` is also known as an \"escape character\". Let us explore strings in the follwoing:\n",
    "\n",
    "- strings **can't** perform all arithmatics, however some of them works on strings\n",
    "\n",
    "Here are some of the arithemtics used with strings:"
   ]
  },
  {
   "cell_type": "markdown",
   "metadata": {
    "id": "6fGHWzZTJ37U"
   },
   "source": [
    "- the '+' symbol concatenates (joins) strings together"
   ]
  },
  {
   "cell_type": "code",
   "execution_count": 25,
   "metadata": {
    "id": "KBGcVw-fDNcf"
   },
   "outputs": [
    {
     "name": "stdout",
     "output_type": "stream",
     "text": [
      "Hello, Alice!\n"
     ]
    }
   ],
   "source": [
    "# Strings\n",
    "greeting = \"Hello\"\n",
    "name = \"Alice\"\n",
    "\n",
    "# String concatenation\n",
    "full_greeting = greeting + \", \" + name + \"!\"\n",
    "print(full_greeting)"
   ]
  },
  {
   "cell_type": "markdown",
   "metadata": {
    "id": "y7HzxsIwqTOr"
   },
   "source": [
    "+ The **multiplication** operator **repeats** strings:"
   ]
  },
  {
   "cell_type": "code",
   "execution_count": 26,
   "metadata": {
    "id": "rf6AHgXlqlYN"
   },
   "outputs": [
    {
     "name": "stdout",
     "output_type": "stream",
     "text": [
      "spam spam spam spam spam \n"
     ]
    }
   ],
   "source": [
    "print('spam ' * 5)"
   ]
  },
  {
   "cell_type": "markdown",
   "metadata": {
    "id": "1-UT88optv-L"
   },
   "source": [
    "**BUT** not all operators work with strings. Consider the following example"
   ]
  },
  {
   "cell_type": "code",
   "execution_count": 27,
   "metadata": {
    "id": "JHUADJBtt07x"
   },
   "outputs": [
    {
     "ename": "TypeError",
     "evalue": "unsupported operand type(s) for /: 'str' and 'str'",
     "output_type": "error",
     "traceback": [
      "\u001b[0;31m---------------------------------------------------------------------------\u001b[0m",
      "\u001b[0;31mTypeError\u001b[0m                                 Traceback (most recent call last)",
      "Cell \u001b[0;32mIn[27], line 1\u001b[0m\n\u001b[0;32m----> 1\u001b[0m \u001b[38;5;28mprint\u001b[39m(\u001b[38;5;124;43m'\u001b[39;49m\u001b[38;5;124;43mspam\u001b[39;49m\u001b[38;5;124;43m'\u001b[39;49m\u001b[43m \u001b[49m\u001b[38;5;241;43m/\u001b[39;49m\u001b[43m \u001b[49m\u001b[38;5;124;43m'\u001b[39;49m\u001b[38;5;124;43meggs\u001b[39;49m\u001b[38;5;124;43m'\u001b[39;49m)\n",
      "\u001b[0;31mTypeError\u001b[0m: unsupported operand type(s) for /: 'str' and 'str'"
     ]
    }
   ],
   "source": [
    "# print('spam' / 'eggs')"
   ]
  },
  {
   "cell_type": "markdown",
   "metadata": {
    "id": "wVA_29lWh5by"
   },
   "source": [
    "**Question**: Is there any way to access one/multiple characters of a string? Try it out below."
   ]
  },
  {
   "cell_type": "code",
   "execution_count": 30,
   "metadata": {
    "id": "s08YhoYPiMVu"
   },
   "outputs": [
    {
     "name": "stdout",
     "output_type": "stream",
     "text": [
      "First character: P\n",
      "Last character: n\n",
      "Substring: yt\n"
     ]
    }
   ],
   "source": [
    "# Indexing and Slicing\n",
    "language = \"Python\"\n",
    "\n",
    "first_char = language[0]\n",
    "last_char = language[-1]\n",
    "substring = language[1:3]\n",
    "\n",
    "print(\"First character:\", first_char)\n",
    "print(\"Last character:\", last_char)\n",
    "print(\"Substring:\", substring)"
   ]
  },
  {
   "cell_type": "markdown",
   "metadata": {
    "id": "UZ3EbJxDhXGa"
   },
   "source": [
    "Python provides many built-in methods to work with strings, such as `upper()`, `lower()`, `replace()`, etc. More of such methods will be discussed later."
   ]
  },
  {
   "cell_type": "code",
   "execution_count": 31,
   "metadata": {
    "id": "Gdu6Gs02hoXA"
   },
   "outputs": [
    {
     "name": "stdout",
     "output_type": "stream",
     "text": [
      "Uppercase: HELLO, PYTHON!\n",
      "Lowercase: hello, python!\n",
      "Replaced text: Hello, World!\n"
     ]
    }
   ],
   "source": [
    "# String methods\n",
    "text = \"Hello, Python!\"\n",
    "\n",
    "upper_text = text.upper()\n",
    "lower_text = text.lower()\n",
    "replaced_text = text.replace(\"Python\", \"World\")\n",
    "\n",
    "print(\"Uppercase:\", upper_text)\n",
    "print(\"Lowercase:\", lower_text)\n",
    "print(\"Replaced text:\", replaced_text)"
   ]
  },
  {
   "cell_type": "markdown",
   "metadata": {
    "id": "NPVf0WncDUZb"
   },
   "source": [
    "#### Boolean\n",
    "Booleans represent one of two values: `True` or `False`. They are often used in *conditional statements* and *logical operations*. Some of the properties of the booleans are as follows.\n"
   ]
  },
  {
   "cell_type": "markdown",
   "metadata": {
    "id": "_rsReRdelIDf"
   },
   "source": [
    "+ Booleans can be combined using logical operators: `and`, `or`, `not`.\n",
    "\n"
   ]
  },
  {
   "cell_type": "code",
   "execution_count": 32,
   "metadata": {
    "id": "o_onTQ8iD_d0"
   },
   "outputs": [
    {
     "name": "stdout",
     "output_type": "stream",
     "text": [
      "AND operation: False\n",
      "OR operation: True\n",
      "NOT operation: False\n"
     ]
    }
   ],
   "source": [
    "# Logical operations\n",
    "a = True\n",
    "b = False\n",
    "\n",
    "AND = a and b\n",
    "OR = a or b\n",
    "NOT = not a\n",
    "print(\"AND operation:\", AND)\n",
    "print(\"OR operation:\", OR)\n",
    "print(\"NOT operation:\", NOT)"
   ]
  },
  {
   "cell_type": "markdown",
   "metadata": {
    "id": "wKgNJl8nltjD"
   },
   "source": [
    "##### Exercise 2\n",
    "\n",
    "Explore the result of `XOR` and `XNOR` operations with different values of `a` and `b`."
   ]
  },
  {
   "cell_type": "code",
   "execution_count": 36,
   "metadata": {
    "id": "mNsioAS2mMbn"
   },
   "outputs": [
    {
     "name": "stdout",
     "output_type": "stream",
     "text": [
      "True False\n"
     ]
    }
   ],
   "source": [
    "a = True\n",
    "b = False\n",
    "\n",
    "XOR = a ^ b  # Returns True when two are different\n",
    "XNOR = not (a ^ b)  # Returns False when two are same\n",
    "\n",
    "print(XOR, XNOR)"
   ]
  },
  {
   "cell_type": "markdown",
   "metadata": {
    "id": "xoLJsZ35rvsg"
   },
   "source": [
    "#### Converting between types\n",
    "Another natural question that comes up here is whether we can convert different datatype into each other, e.g., integer to float, or string to integer, etc. Let us discover the answer by experimenting different combinations.\n",
    "\n",
    "**Remember** to take a moment to think about what each block of code will print **before** you run it.\n",
    "\n",
    "**Hint**: The commands `int()`, `float()`, and `str()` are normally deployed to conduct the conversions."
   ]
  },
  {
   "cell_type": "code",
   "execution_count": 37,
   "metadata": {
    "id": "N5WqgfyzrwH_"
   },
   "outputs": [
    {
     "name": "stdout",
     "output_type": "stream",
     "text": [
      "from string:       42\n",
      "from float:        3\n",
      "from int:          10\n",
      "from boolean True: 1\n",
      "from boolean False 0\n"
     ]
    }
   ],
   "source": [
    "my_string = \"42\"\n",
    "my_float = 3.14\n",
    "my_int = 10\n",
    "my_bool_1 = True\n",
    "my_bool_2 = False\n",
    "\n",
    "# Convert to integer\n",
    "print('from string:      ', int(my_string))\n",
    "print('from float:       ', int(my_float))\n",
    "print('from int:         ', int(my_int))\n",
    "print('from boolean True:', int(my_bool_1))\n",
    "print('from boolean False', int(my_bool_2))"
   ]
  },
  {
   "cell_type": "code",
   "execution_count": 38,
   "metadata": {
    "id": "4GAM6QJgtEXe"
   },
   "outputs": [
    {
     "ename": "ValueError",
     "evalue": "invalid literal for int() with base 10: 'spam'",
     "output_type": "error",
     "traceback": [
      "\u001b[0;31m---------------------------------------------------------------------------\u001b[0m",
      "\u001b[0;31mValueError\u001b[0m                                Traceback (most recent call last)",
      "Cell \u001b[0;32mIn[38], line 2\u001b[0m\n\u001b[1;32m      1\u001b[0m \u001b[38;5;66;03m# what will happen if we do this?\u001b[39;00m\n\u001b[0;32m----> 2\u001b[0m \u001b[38;5;28mprint\u001b[39m(\u001b[38;5;28;43mint\u001b[39;49m\u001b[43m(\u001b[49m\u001b[38;5;124;43m'\u001b[39;49m\u001b[38;5;124;43mspam\u001b[39;49m\u001b[38;5;124;43m'\u001b[39;49m\u001b[43m)\u001b[49m)\n",
      "\u001b[0;31mValueError\u001b[0m: invalid literal for int() with base 10: 'spam'"
     ]
    }
   ],
   "source": [
    "# what will happen if we do this?\n",
    "print(int('spam'))"
   ]
  },
  {
   "cell_type": "code",
   "execution_count": 39,
   "metadata": {
    "id": "JceYzSAptJ_y"
   },
   "outputs": [
    {
     "name": "stdout",
     "output_type": "stream",
     "text": [
      "from string:                    42.0\n",
      "from string with decimal point: 42.5\n",
      "from int:                       10.0\n",
      "from boolean True:              1.0\n",
      "from boolean False:             0.0\n"
     ]
    }
   ],
   "source": [
    "my_string_1 = \"42\"\n",
    "my_string_2 = \"42.5\"\n",
    "my_int = 10\n",
    "my_bool_1 = True\n",
    "my_bool_2 = False\n",
    "\n",
    "# Convert to float\n",
    "print('from string:                   ', float(my_string_1))\n",
    "print('from string with decimal point:', float(my_string_2))\n",
    "print('from int:                      ', float(my_int))\n",
    "print('from boolean True:             ', float(my_bool_1))\n",
    "print('from boolean False:            ', float(my_bool_2))"
   ]
  },
  {
   "cell_type": "code",
   "execution_count": 40,
   "metadata": {
    "id": "QkVBz4IPvUKk"
   },
   "outputs": [
    {
     "name": "stdout",
     "output_type": "stream",
     "text": [
      "from int:           112233445566778899\n",
      "from float:         3.14\n",
      "from boolean True:  True\n",
      "from boolean False: False\n"
     ]
    }
   ],
   "source": [
    "my_string = \"42\"\n",
    "my_float = 3.14\n",
    "my_int = 112233445566778899\n",
    "my_bool_1 = True\n",
    "my_bool_2 = False\n",
    "\n",
    "# Convert to string\n",
    "print('from int:          ', str(my_int))\n",
    "print('from float:        ', str(my_float))\n",
    "print('from boolean True: ', str(my_bool_1))\n",
    "print('from boolean False:', str(my_bool_2))"
   ]
  },
  {
   "cell_type": "code",
   "execution_count": 41,
   "metadata": {
    "id": "bSS4wczNxKnb"
   },
   "outputs": [
    {
     "name": "stdout",
     "output_type": "stream",
     "text": [
      "2\n",
      "11\n"
     ]
    }
   ],
   "source": [
    "# what will these print?\n",
    "print(int('1') + 1)\n",
    "print(str(1) + '1')"
   ]
  },
  {
   "cell_type": "code",
   "execution_count": 42,
   "metadata": {
    "id": "maGspymmsG8N"
   },
   "outputs": [
    {
     "ename": "TypeError",
     "evalue": "can only concatenate str (not \"int\") to str",
     "output_type": "error",
     "traceback": [
      "\u001b[0;31m---------------------------------------------------------------------------\u001b[0m",
      "\u001b[0;31mTypeError\u001b[0m                                 Traceback (most recent call last)",
      "Cell \u001b[0;32mIn[42], line 2\u001b[0m\n\u001b[1;32m      1\u001b[0m \u001b[38;5;66;03m# what about this?\u001b[39;00m\n\u001b[0;32m----> 2\u001b[0m \u001b[38;5;28mprint\u001b[39m(\u001b[38;5;124;43m'\u001b[39;49m\u001b[38;5;124;43m1\u001b[39;49m\u001b[38;5;124;43m'\u001b[39;49m\u001b[43m \u001b[49m\u001b[38;5;241;43m+\u001b[39;49m\u001b[43m \u001b[49m\u001b[38;5;241;43m1\u001b[39;49m)\n",
      "\u001b[0;31mTypeError\u001b[0m: can only concatenate str (not \"int\") to str"
     ]
    }
   ],
   "source": [
    "# what about this?\n",
    "print('1' + 1)"
   ]
  },
  {
   "cell_type": "code",
   "execution_count": 43,
   "metadata": {
    "id": "67-jnAZVwOZa"
   },
   "outputs": [
    {
     "name": "stdout",
     "output_type": "stream",
     "text": [
      "from empty string:               False\n",
      "from non-empty int string:       True\n",
      "from word string:                True\n",
      "from int 0:                      False\n",
      "from int with any other value:   True\n",
      "from float 0.0:                  False\n",
      "from float with any other value: True\n"
     ]
    }
   ],
   "source": [
    "my_string_1 = \"\"\n",
    "my_string_2 = \"0\"\n",
    "my_string_3 = \"spam\"\n",
    "my_int_1 = 0\n",
    "my_int_2 = 10\n",
    "my_float_1 = 0.0\n",
    "my_float_2 = 0.0005\n",
    "\n",
    "# Convert to bool\n",
    "print('from empty string:              ', bool(my_string_1))\n",
    "print('from non-empty int string:      ', bool(my_string_2))\n",
    "print('from word string:               ', bool(my_string_3))\n",
    "print('from int 0:                     ', bool(my_int_1))\n",
    "print('from int with any other value:  ', bool(my_int_2))\n",
    "print('from float 0.0:                 ', bool(my_float_1))\n",
    "print('from float with any other value:', bool(my_float_2))"
   ]
  },
  {
   "cell_type": "markdown",
   "metadata": {
    "id": "s8sZROTjK2g3"
   },
   "source": [
    "**Congratulations! You have finished the Notebook! Great Job!**\n",
    "🤗🙌👍👏💪\n",
    "<!--\n",
    "# Copyright © 2024 Meysam Goodarzi\n",
    "This notebook is licensed under CC BY-NC 4.0 with the following amandments:\n",
    "- Individuals may use, share, and adapt this material for non-commercial purposes with attribution.\n",
    "- Institutions/Companies must obtain written consent to use this material, except for nonprofits.\n",
    "- Commercial use is prohibited without permission.  \n",
    "Contact: analytica@meysam-goodarzi.com.\n",
    "-->"
   ]
  }
 ],
 "metadata": {
  "colab": {
   "provenance": [],
   "toc_visible": true
  },
  "kernelspec": {
   "display_name": "dsa",
   "language": "python",
   "name": "python3"
  },
  "language_info": {
   "codemirror_mode": {
    "name": "ipython",
    "version": 3
   },
   "file_extension": ".py",
   "mimetype": "text/x-python",
   "name": "python",
   "nbconvert_exporter": "python",
   "pygments_lexer": "ipython3",
   "version": "3.11.11"
  }
 },
 "nbformat": 4,
 "nbformat_minor": 0
}
